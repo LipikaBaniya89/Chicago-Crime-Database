{
 "cells": [
  {
   "cell_type": "code",
   "execution_count": 79,
   "id": "d5877ab8",
   "metadata": {},
   "outputs": [],
   "source": [
    "import pandas as pd"
   ]
  },
  {
   "cell_type": "code",
   "execution_count": 80,
   "id": "e287e254",
   "metadata": {},
   "outputs": [],
   "source": [
    "path = \"data/Crime_Incidents_in_2024.csv\""
   ]
  },
  {
   "cell_type": "code",
   "execution_count": 81,
   "id": "4dd45f36",
   "metadata": {},
   "outputs": [],
   "source": [
    "df = pd.read_csv(path)"
   ]
  },
  {
   "cell_type": "code",
   "execution_count": 82,
   "id": "be90eab4",
   "metadata": {},
   "outputs": [
    {
     "data": {
      "text/html": [
       "<div>\n",
       "<style scoped>\n",
       "    .dataframe tbody tr th:only-of-type {\n",
       "        vertical-align: middle;\n",
       "    }\n",
       "\n",
       "    .dataframe tbody tr th {\n",
       "        vertical-align: top;\n",
       "    }\n",
       "\n",
       "    .dataframe thead th {\n",
       "        text-align: right;\n",
       "    }\n",
       "</style>\n",
       "<table border=\"1\" class=\"dataframe\">\n",
       "  <thead>\n",
       "    <tr style=\"text-align: right;\">\n",
       "      <th></th>\n",
       "      <th>CCN</th>\n",
       "      <th>REPORT_DATE</th>\n",
       "      <th>SHIFT</th>\n",
       "      <th>METHOD</th>\n",
       "      <th>OFFENSE</th>\n",
       "      <th>BLOCK</th>\n",
       "      <th>XBLOCK</th>\n",
       "      <th>YBLOCK</th>\n",
       "      <th>WARD</th>\n",
       "      <th>ANC</th>\n",
       "      <th>...</th>\n",
       "      <th>NEIGHBORHOOD_CLUSTER</th>\n",
       "      <th>BLOCK_GROUP</th>\n",
       "      <th>CENSUS_TRACT</th>\n",
       "      <th>VOTING_PRECINCT</th>\n",
       "      <th>LATITUDE</th>\n",
       "      <th>LONGITUDE</th>\n",
       "      <th>BID</th>\n",
       "      <th>START_DATE</th>\n",
       "      <th>END_DATE</th>\n",
       "      <th>OBJECTID</th>\n",
       "    </tr>\n",
       "  </thead>\n",
       "  <tbody>\n",
       "    <tr>\n",
       "      <th>0</th>\n",
       "      <td>24423221</td>\n",
       "      <td>2024/09/24 18:40:56+00</td>\n",
       "      <td>DAY</td>\n",
       "      <td>OTHERS</td>\n",
       "      <td>THEFT/OTHER</td>\n",
       "      <td>300 - 399 BLOCK OF RHODE ISLAND AVENUE NE</td>\n",
       "      <td>399887.24</td>\n",
       "      <td>139069.89</td>\n",
       "      <td>5.0</td>\n",
       "      <td>5F</td>\n",
       "      <td>...</td>\n",
       "      <td>Cluster 21</td>\n",
       "      <td>009203 2</td>\n",
       "      <td>9203.0</td>\n",
       "      <td>Precinct 74</td>\n",
       "      <td>38.919499</td>\n",
       "      <td>-77.001300</td>\n",
       "      <td>NaN</td>\n",
       "      <td>2024/09/04 16:43:00+00</td>\n",
       "      <td>2024/09/04 16:45:00+00</td>\n",
       "      <td>737857565</td>\n",
       "    </tr>\n",
       "    <tr>\n",
       "      <th>1</th>\n",
       "      <td>24009631</td>\n",
       "      <td>2024/01/20 09:21:04+00</td>\n",
       "      <td>MIDNIGHT</td>\n",
       "      <td>OTHERS</td>\n",
       "      <td>THEFT/OTHER</td>\n",
       "      <td>800 - 899 BLOCK OF R STREET NW</td>\n",
       "      <td>397965.67</td>\n",
       "      <td>138304.93</td>\n",
       "      <td>2.0</td>\n",
       "      <td>2G</td>\n",
       "      <td>...</td>\n",
       "      <td>Cluster 7</td>\n",
       "      <td>004901 1</td>\n",
       "      <td>4901.0</td>\n",
       "      <td>Precinct 21</td>\n",
       "      <td>38.912606</td>\n",
       "      <td>-77.023456</td>\n",
       "      <td>NaN</td>\n",
       "      <td>2024/01/20 07:50:00+00</td>\n",
       "      <td>2024/01/20 09:40:00+00</td>\n",
       "      <td>737857566</td>\n",
       "    </tr>\n",
       "    <tr>\n",
       "      <th>2</th>\n",
       "      <td>24009706</td>\n",
       "      <td>2024/01/20 17:29:27+00</td>\n",
       "      <td>DAY</td>\n",
       "      <td>OTHERS</td>\n",
       "      <td>THEFT F/AUTO</td>\n",
       "      <td>1000 - 1199 BLOCK OF OTIS STREET NE</td>\n",
       "      <td>400695.73</td>\n",
       "      <td>140731.99</td>\n",
       "      <td>5.0</td>\n",
       "      <td>5B</td>\n",
       "      <td>...</td>\n",
       "      <td>Cluster 20</td>\n",
       "      <td>009504 1</td>\n",
       "      <td>9504.0</td>\n",
       "      <td>Precinct 68</td>\n",
       "      <td>38.934472</td>\n",
       "      <td>-76.991976</td>\n",
       "      <td>NaN</td>\n",
       "      <td>2024/01/18 03:00:00+00</td>\n",
       "      <td>2024/01/18 23:00:00+00</td>\n",
       "      <td>737857567</td>\n",
       "    </tr>\n",
       "    <tr>\n",
       "      <th>3</th>\n",
       "      <td>24421835</td>\n",
       "      <td>2024/05/21 12:01:09+00</td>\n",
       "      <td>DAY</td>\n",
       "      <td>OTHERS</td>\n",
       "      <td>THEFT/OTHER</td>\n",
       "      <td>600 - 623 BLOCK OF 6TH STREET NE</td>\n",
       "      <td>400134.57</td>\n",
       "      <td>136653.33</td>\n",
       "      <td>6.0</td>\n",
       "      <td>6C</td>\n",
       "      <td>...</td>\n",
       "      <td>Cluster 25</td>\n",
       "      <td>008301 1</td>\n",
       "      <td>8301.0</td>\n",
       "      <td>Precinct 84</td>\n",
       "      <td>38.897730</td>\n",
       "      <td>-76.998449</td>\n",
       "      <td>NaN</td>\n",
       "      <td>2024/05/14 04:20:00+00</td>\n",
       "      <td>2024/05/14 17:07:00+00</td>\n",
       "      <td>737857575</td>\n",
       "    </tr>\n",
       "    <tr>\n",
       "      <th>4</th>\n",
       "      <td>24422596</td>\n",
       "      <td>2024/08/02 05:42:27+00</td>\n",
       "      <td>MIDNIGHT</td>\n",
       "      <td>OTHERS</td>\n",
       "      <td>THEFT/OTHER</td>\n",
       "      <td>600 - 699 BLOCK OF ELLIOTT STREET NE</td>\n",
       "      <td>401170.24</td>\n",
       "      <td>136698.95</td>\n",
       "      <td>6.0</td>\n",
       "      <td>6A</td>\n",
       "      <td>...</td>\n",
       "      <td>Cluster 25</td>\n",
       "      <td>008001 1</td>\n",
       "      <td>8001.0</td>\n",
       "      <td>Precinct 81</td>\n",
       "      <td>38.898140</td>\n",
       "      <td>-76.986510</td>\n",
       "      <td>NaN</td>\n",
       "      <td>2024/07/16 16:14:00+00</td>\n",
       "      <td>2024/07/16 16:15:00+00</td>\n",
       "      <td>737857576</td>\n",
       "    </tr>\n",
       "  </tbody>\n",
       "</table>\n",
       "<p>5 rows × 22 columns</p>\n",
       "</div>"
      ],
      "text/plain": [
       "        CCN             REPORT_DATE     SHIFT  METHOD       OFFENSE  \\\n",
       "0  24423221  2024/09/24 18:40:56+00       DAY  OTHERS   THEFT/OTHER   \n",
       "1  24009631  2024/01/20 09:21:04+00  MIDNIGHT  OTHERS   THEFT/OTHER   \n",
       "2  24009706  2024/01/20 17:29:27+00       DAY  OTHERS  THEFT F/AUTO   \n",
       "3  24421835  2024/05/21 12:01:09+00       DAY  OTHERS   THEFT/OTHER   \n",
       "4  24422596  2024/08/02 05:42:27+00  MIDNIGHT  OTHERS   THEFT/OTHER   \n",
       "\n",
       "                                       BLOCK     XBLOCK     YBLOCK  WARD ANC  \\\n",
       "0  300 - 399 BLOCK OF RHODE ISLAND AVENUE NE  399887.24  139069.89   5.0  5F   \n",
       "1             800 - 899 BLOCK OF R STREET NW  397965.67  138304.93   2.0  2G   \n",
       "2        1000 - 1199 BLOCK OF OTIS STREET NE  400695.73  140731.99   5.0  5B   \n",
       "3           600 - 623 BLOCK OF 6TH STREET NE  400134.57  136653.33   6.0  6C   \n",
       "4       600 - 699 BLOCK OF ELLIOTT STREET NE  401170.24  136698.95   6.0  6A   \n",
       "\n",
       "   ...  NEIGHBORHOOD_CLUSTER  BLOCK_GROUP CENSUS_TRACT VOTING_PRECINCT  \\\n",
       "0  ...            Cluster 21     009203 2       9203.0     Precinct 74   \n",
       "1  ...             Cluster 7     004901 1       4901.0     Precinct 21   \n",
       "2  ...            Cluster 20     009504 1       9504.0     Precinct 68   \n",
       "3  ...            Cluster 25     008301 1       8301.0     Precinct 84   \n",
       "4  ...            Cluster 25     008001 1       8001.0     Precinct 81   \n",
       "\n",
       "    LATITUDE  LONGITUDE  BID              START_DATE                END_DATE  \\\n",
       "0  38.919499 -77.001300  NaN  2024/09/04 16:43:00+00  2024/09/04 16:45:00+00   \n",
       "1  38.912606 -77.023456  NaN  2024/01/20 07:50:00+00  2024/01/20 09:40:00+00   \n",
       "2  38.934472 -76.991976  NaN  2024/01/18 03:00:00+00  2024/01/18 23:00:00+00   \n",
       "3  38.897730 -76.998449  NaN  2024/05/14 04:20:00+00  2024/05/14 17:07:00+00   \n",
       "4  38.898140 -76.986510  NaN  2024/07/16 16:14:00+00  2024/07/16 16:15:00+00   \n",
       "\n",
       "    OBJECTID  \n",
       "0  737857565  \n",
       "1  737857566  \n",
       "2  737857567  \n",
       "3  737857575  \n",
       "4  737857576  \n",
       "\n",
       "[5 rows x 22 columns]"
      ]
     },
     "execution_count": 82,
     "metadata": {},
     "output_type": "execute_result"
    }
   ],
   "source": [
    "df.head()"
   ]
  },
  {
   "cell_type": "code",
   "execution_count": 83,
   "id": "c9b3782f",
   "metadata": {},
   "outputs": [
    {
     "data": {
      "text/plain": [
       "Index(['CCN', 'REPORT_DATE', 'SHIFT', 'METHOD', 'OFFENSE', 'BLOCK', 'XBLOCK',\n",
       "       'YBLOCK', 'WARD', 'ANC', 'DISTRICT', 'PSA', 'NEIGHBORHOOD_CLUSTER',\n",
       "       'BLOCK_GROUP', 'CENSUS_TRACT', 'VOTING_PRECINCT', 'LATITUDE',\n",
       "       'LONGITUDE', 'BID', 'START_DATE', 'END_DATE', 'OBJECTID'],\n",
       "      dtype='object')"
      ]
     },
     "execution_count": 83,
     "metadata": {},
     "output_type": "execute_result"
    }
   ],
   "source": [
    "df.columns"
   ]
  },
  {
   "cell_type": "code",
   "execution_count": 84,
   "id": "5c6d4618",
   "metadata": {},
   "outputs": [],
   "source": [
    "offense_df = df[['OFFENSE']].drop_duplicates().reset_index(drop=True)\n",
    "offense_df.rename(columns={'OFFENSE': 'offense_type'}, inplace=True)\n",
    "offense_df['offense_id'] = offense_df.index + 1\n",
    "offense_df = offense_df[['offense_id', 'offense_type']]\n",
    "offense_df.to_csv('offense.csv', index=False)\n"
   ]
  },
  {
   "cell_type": "code",
   "execution_count": 85,
   "id": "a8d6210e",
   "metadata": {},
   "outputs": [],
   "source": [
    "method_df = df[['METHOD']].drop_duplicates().reset_index(drop=True)\n",
    "method_df['method_id'] = method_df.index + 1\n",
    "method_df.rename(columns={'METHOD': 'method_type'}, inplace=True)\n",
    "method_df = method_df[['method_id', 'method_type']]\n",
    "method_df.to_csv('method.csv', index=False)\n"
   ]
  },
  {
   "cell_type": "code",
   "execution_count": 86,
   "id": "207b8340",
   "metadata": {},
   "outputs": [],
   "source": [
    "# Create location DataFrame\n",
    "location_df = df[['WARD', 'DISTRICT', 'PSA', 'ANC', 'NEIGHBORHOOD_CLUSTER']].drop_duplicates().reset_index(drop=True)\n",
    "\n",
    "# Assign and convert location_id to integer\n",
    "location_df['location_id'] = location_df.index + 1\n",
    "location_df['location_id'] = location_df['location_id'].astype(int)  # Force integer type\n",
    "\n",
    "# Reorder columns if needed\n",
    "location_df = location_df[['location_id', 'WARD', 'DISTRICT', 'PSA', 'ANC', 'NEIGHBORHOOD_CLUSTER']]\n",
    "\n",
    "# Save to CSV\n",
    "location_df.to_csv('location.csv', index=False)"
   ]
  },
  {
   "cell_type": "code",
   "execution_count": 93,
   "id": "25a198ca",
   "metadata": {},
   "outputs": [],
   "source": [
    "location_df = df[['WARD', 'DISTRICT', 'PSA', 'ANC', 'NEIGHBORHOOD_CLUSTER']].drop_duplicates().reset_index(drop=True)\n",
    "location_df['location_id'] = location_df.index + 1\n",
    "\n",
    "# Merge back the location_id into the main df based on those 5 geographic fields\n",
    "df = df.merge(location_df, on=['WARD', 'DISTRICT', 'PSA', 'ANC', 'NEIGHBORHOOD_CLUSTER'], how='left')\n",
    "\n",
    "block_df = df[['XBLOCK', 'YBLOCK', 'location_id']].drop_duplicates()\n",
    "block_df.rename(columns={'XBLOCK': 'x_block', 'YBLOCK': 'y_block'}, inplace=True)\n",
    "block_df.to_csv('block_group.csv', index=False)\n"
   ]
  },
  {
   "cell_type": "code",
   "execution_count": 88,
   "id": "64d4771a",
   "metadata": {},
   "outputs": [
    {
     "name": "stderr",
     "output_type": "stream",
     "text": [
      "/var/folders/p4/1lvg1px941165j7l1h_yj9j80000gn/T/ipykernel_24294/2094713905.py:12: SettingWithCopyWarning: \n",
      "A value is trying to be set on a copy of a slice from a DataFrame\n",
      "\n",
      "See the caveats in the documentation: https://pandas.pydata.org/pandas-docs/stable/user_guide/indexing.html#returning-a-view-versus-a-copy\n",
      "  incident_df.rename(columns={\n"
     ]
    }
   ],
   "source": [
    "# Map method_id\n",
    "df = df.merge(method_df, left_on='METHOD', right_on='method_type', how='left')\n",
    "\n",
    "# Map offense_id\n",
    "df = df.merge(offense_df, left_on='OFFENSE', right_on='offense_type', how='left')\n",
    "\n",
    "# Assign location_id (merge from location table)\n",
    "df = df.merge(location_df, on=['WARD', 'DISTRICT', 'PSA', 'ANC', 'NEIGHBORHOOD_CLUSTER'], how='left')\n",
    "\n",
    "# Create the final crime_incident CSV\n",
    "incident_df = df[['CCN', 'REPORT_DATE', 'START_DATE', 'END_DATE', 'SHIFT', 'offense_id', 'method_id']]\n",
    "incident_df.rename(columns={\n",
    "    'REPORT_DATE': 'report_date',\n",
    "    'START_DATE': 'start_date',\n",
    "    'END_DATE': 'end_date',\n",
    "    'SHIFT': 'shift'\n",
    "}, inplace=True)\n",
    "incident_df = incident_df.drop_duplicates(subset=['CCN'])\n",
    "incident_df.to_csv('crime_incident.csv', index=False)\n"
   ]
  },
  {
   "cell_type": "code",
   "execution_count": 91,
   "id": "79ec7e2c",
   "metadata": {},
   "outputs": [
    {
     "name": "stderr",
     "output_type": "stream",
     "text": [
      "/var/folders/p4/1lvg1px941165j7l1h_yj9j80000gn/T/ipykernel_24294/1058803027.py:2: SettingWithCopyWarning: \n",
      "A value is trying to be set on a copy of a slice from a DataFrame\n",
      "\n",
      "See the caveats in the documentation: https://pandas.pydata.org/pandas-docs/stable/user_guide/indexing.html#returning-a-view-versus-a-copy\n",
      "  crime_location_df.rename(columns={\n"
     ]
    }
   ],
   "source": [
    "crime_location_df = df[['CCN', 'location_id', 'LATITUDE', 'LONGITUDE']]\n",
    "crime_location_df.rename(columns={\n",
    "    'LATITUDE': 'latitude',\n",
    "    'LONGITUDE': 'longitude'\n",
    "}, inplace=True)\n",
    "crime_location_df = crime_location_df.drop_duplicates(subset=['CCN'])\n",
    "crime_location_df.to_csv('crime_location.csv', index=False)\n"
   ]
  },
  {
   "cell_type": "code",
   "execution_count": null,
   "id": "28b6ad0a",
   "metadata": {},
   "outputs": [],
   "source": []
  }
 ],
 "metadata": {
  "kernelspec": {
   "display_name": "myenv",
   "language": "python",
   "name": "python3"
  },
  "language_info": {
   "codemirror_mode": {
    "name": "ipython",
    "version": 3
   },
   "file_extension": ".py",
   "mimetype": "text/x-python",
   "name": "python",
   "nbconvert_exporter": "python",
   "pygments_lexer": "ipython3",
   "version": "3.13.4"
  }
 },
 "nbformat": 4,
 "nbformat_minor": 5
}
